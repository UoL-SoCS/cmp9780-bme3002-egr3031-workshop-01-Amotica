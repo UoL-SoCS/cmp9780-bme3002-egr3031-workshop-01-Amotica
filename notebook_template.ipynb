{
 "cells": [
  {
   "cell_type": "markdown",
   "id": "2195ee91-9549-4cba-8c17-0b4d0cbb1995",
   "metadata": {},
   "source": [
    "## **CMP9780M** Applied Signal and Image Processing, **EGR3031** Signal Processing and System Identification. and **BME3002** Biomedical Imaging and Signal Processing \n",
    "#### Week 1: Working Within the GitHuB Classroom Environment"
   ]
  },
  {
   "cell_type": "markdown",
   "id": "a6679d30-3fd7-407a-ac21-e74caba09bcc",
   "metadata": {},
   "source": [
    "In this workshop, we will familiarise ourselves with the GitHub Classroom environment. There is also a supplementary task to help you understand the Nyquist Theorem and Aliasing."
   ]
  },
  {
   "cell_type": "markdown",
   "id": "fa2b1c30-7c1a-4b68-8d59-fbcf28bd0449",
   "metadata": {},
   "source": [
    "## 1. Main Task"
   ]
  },
  {
   "cell_type": "markdown",
   "id": "57632dfc-d9bd-4d78-83f4-3353a4ff086a",
   "metadata": {},
   "source": [
    "**The Signal S** has a Sample frequency (**Fs**) = 2<sup>10</sup>, you could estimate the period **T**, using the relation T = 1/ Fs. The signal length (**L**) = 2 seconds, the amplitude of the signal (**A**) = 0.9, and the signal’s frequency (**ω**) = 15. The sample period (**dt**) should be expressed in terms of the sample Frequency. Write down the relation to represent the sinusoid of this signal.\n",
    "\n",
    "**The is signal:** `S = A * np.sin(2 * np.pi * ω * t)`"
   ]
  },
  {
   "cell_type": "markdown",
   "id": "2a415dab-8765-4ce7-ad53-83a04882ffd7",
   "metadata": {},
   "source": [
    "#### Import libraries\n",
    "Let's import the various libraries and functions to be used in this workshop."
   ]
  },
  {
   "cell_type": "code",
   "execution_count": 1,
   "id": "b61e22ba-a32b-4465-b9f4-8b1ae98caeb7",
   "metadata": {},
   "outputs": [],
   "source": [
    "import numpy as np\n",
    "import matplotlib.pyplot as plt"
   ]
  },
  {
   "cell_type": "markdown",
   "id": "2fb32577-323b-4a97-86e7-9ead0674831a",
   "metadata": {},
   "source": [
    "#### Specifying common parameters for all the signals\n",
    "> You should replace the variables, which are currently set to None with appropriate expressions or values."
   ]
  },
  {
   "cell_type": "code",
   "execution_count": 2,
   "id": "31c3ef5c-bd53-4291-bc40-a40ae4659e68",
   "metadata": {},
   "outputs": [],
   "source": [
    "# Uncomment these variables and assign appropriate expression or values\n",
    "Fs = None  # Sampling frequency\n",
    "dt = None  # Sampling period\n",
    "L = None  # Length of signal in seconds\n",
    "t = None  # Time vector using np.arange\n",
    "A = None\n",
    "w = None"
   ]
  },
  {
   "cell_type": "markdown",
   "id": "6eb580d0-73d1-407c-b743-b453a31189a8",
   "metadata": {},
   "source": [
    "#### Task 1.1: Create the Signal\n",
    "> You should replace the variable, S,  which is currently set to None with appropriate expression."
   ]
  },
  {
   "cell_type": "code",
   "execution_count": 3,
   "id": "4ef21b84-9198-4441-984d-2695b65df3ab",
   "metadata": {},
   "outputs": [],
   "source": [
    "# Assign the correct expression to the variable S1\n",
    "S = None"
   ]
  },
  {
   "cell_type": "markdown",
   "id": "4c351041-4900-478d-aa0f-4cc0b07efbe5",
   "metadata": {},
   "source": [
    "#### Task 1.2"
   ]
  },
  {
   "cell_type": "markdown",
   "id": "2849c872-cfaa-498e-b8d5-c1ab5b3a1f5e",
   "metadata": {},
   "source": [
    "Produce a plot for the signal (**S**) from 1:200, e.g. plot (t(1:200), y(1:200)) and fix the axes according to the plots provided (seconds/milliseconds, etc.)\n",
    "> The codes have been provided for you just uncomment"
   ]
  },
  {
   "cell_type": "code",
   "execution_count": 1,
   "id": "5b2162ae-24e6-4d62-9fd9-39d765ef768d",
   "metadata": {
    "scrolled": true
   },
   "outputs": [],
   "source": [
    "# ## Plot the signal in the time domain\n",
    "# plt.figure(1)\n",
    "# plt.plot(t[:200], S[:200])\n",
    "# plt.title('Signal Corrupted with Zero-Mean Random Noise')\n",
    "# plt.xlabel('t (milliseconds)')\n",
    "# plt.ylabel('S(t)')"
   ]
  },
  {
   "cell_type": "markdown",
   "id": "30c78d32-1ed2-4e7f-8737-86e320035bc5",
   "metadata": {},
   "source": [
    "## 2. Supplementary Task \n",
    "### **Nyquist Theorem and Aliasing**\n",
    "We shall use the Nyquist theorem to show aliasing effect in time domain. According to the Nyquist theorem, to avoid aliasing $$ f_s \\geq 2 f_{max}$$.\n",
    "where\n",
    "\n",
    "* $f_s$ = sampling frequency\n",
    "* $f_{max}$ = highest frequency in the signal\n",
    "\n",
    "If $f_s < 2 f_{max}$, aliasing occurs, and the apparent frequency is given by:\n",
    "\n",
    "$$\n",
    "f_{alias} = | f - k f_s |, \\quad k \\in \\mathbb{Z}\n",
    "$$"
   ]
  },
  {
   "cell_type": "markdown",
   "id": "d78970c3-90f1-42e4-8929-af4523786ed5",
   "metadata": {},
   "source": [
    "#### Import Additional libraries\n",
    "Let's import some additional libraries and functions that we will use for the remainder of the workshop."
   ]
  },
  {
   "cell_type": "code",
   "execution_count": 5,
   "id": "b6e0fcae-13f4-481a-9f2a-5a27beab1cc0",
   "metadata": {},
   "outputs": [],
   "source": [
    "from scipy.io import wavfile\n",
    "from scipy.signal import resample"
   ]
  },
  {
   "cell_type": "markdown",
   "id": "b25c7773-9e69-4f89-88cb-14a4c40ca919",
   "metadata": {},
   "source": [
    "#### Load the audio signal\n",
    "We should use wavfile.read, details at: https://docs.scipy.org/doc/scipy/reference/generated/scipy.io.wavfile.read.html, to load the audio file sine_50Hz included with you repo.\n"
   ]
  },
  {
   "cell_type": "code",
   "execution_count": 6,
   "id": "9eea1cc4-77c0-48cb-895f-83fd0e2236e4",
   "metadata": {},
   "outputs": [],
   "source": [
    "fs, signal = wavfile.read(\"sine_50Hz.wav\")   \n",
    "signal = signal.astype(float)\n",
    "\n",
    "# If stereo, take one channel\n",
    "if signal.ndim > 1:\n",
    "    signal = signal[:,0]"
   ]
  },
  {
   "cell_type": "markdown",
   "id": "0d93222a-6677-4a97-9bc6-84d3b3b11709",
   "metadata": {},
   "source": [
    "#### Define the Nyquist rate\n",
    "$$ f_s \\geq 2 f_{max}$$"
   ]
  },
  {
   "cell_type": "code",
   "execution_count": 7,
   "id": "12d41902-ca33-4918-8c3d-82ab298cca05",
   "metadata": {},
   "outputs": [
    {
     "name": "stdout",
     "output_type": "stream",
     "text": [
      "Original sample rate: 1000 Hz\n",
      "Nyquist frequency: 500.0 Hz\n"
     ]
    }
   ],
   "source": [
    "f_max = fs / 2\n",
    "print(\"Original sample rate:\", fs, \"Hz\")\n",
    "print(\"Nyquist frequency:\", f_max, \"Hz\")"
   ]
  },
  {
   "cell_type": "markdown",
   "id": "400f28e1-7a0c-4077-bcc6-3954958222a1",
   "metadata": {},
   "source": [
    "#### **Task 2.1:** Define two new sampling frequencies\n",
    "The first should be way above the Nyquist (fs_above), and the second way below it (fs_below). ***You should replace the variable which are currently set to None with appropriate values.***"
   ]
  },
  {
   "cell_type": "code",
   "execution_count": 8,
   "id": "4e63e6ea-2d68-4533-9625-65f5cc0abdd6",
   "metadata": {},
   "outputs": [],
   "source": [
    "fs_above = None       # Above Nyquist\n",
    "fs_below = None       # Below Nyquist"
   ]
  },
  {
   "cell_type": "markdown",
   "id": "2913c4d3-1f20-4b62-b929-8bdcad868d67",
   "metadata": {},
   "source": [
    "#### **Task 2.2:** Resample signals\n",
    "Now. resample the originl loaded signal using the new ssample frequencies, fs_above and fs_nelow. Tip: use the resample from scipy.signal, details available at: https://docs.scipy.org/doc/scipy/reference/generated/scipy.signal.resample.html. ***You should replace the variables, signal_above and signal_below, which is currently set to None with appropriate values/function/expression.***"
   ]
  },
  {
   "cell_type": "code",
   "execution_count": 9,
   "id": "1ffd9fd5-93be-4931-8d26-4e93e49a02c0",
   "metadata": {},
   "outputs": [],
   "source": [
    "# ****Uncomment these two lines****\n",
    "N_above = int(len(signal) * fs_above / fs)\n",
    "N_below = int(len(signal) * fs_below / fs)\n",
    "\n",
    "signal_above = None\n",
    "signal_below = None"
   ]
  },
  {
   "cell_type": "markdown",
   "id": "c1afd503-eb08-46b2-a24f-7ece1680efc9",
   "metadata": {},
   "source": [
    "#### The Time vectors of the two samples\n",
    "> Uncomment these codes to be able to plot"
   ]
  },
  {
   "cell_type": "code",
   "execution_count": 12,
   "id": "8dfdb1c8-d87d-40e6-a0ed-fe21e0d5fa4c",
   "metadata": {},
   "outputs": [],
   "source": [
    "# # The Time vectors of the two samples\n",
    "# t_2 = np.arange(len(signal)) / fs\n",
    "# t_above = np.arange(N_above) / fs_above\n",
    "# t_below = np.arange(N_below) / fs_below"
   ]
  },
  {
   "cell_type": "markdown",
   "id": "b30d4c56-eb52-461f-a630-bdadc40bfc40",
   "metadata": {},
   "source": [
    "#### Plotting the Original and the two sampled signals\n",
    "> Uncomment the plotting codes below too visualise the results"
   ]
  },
  {
   "cell_type": "code",
   "execution_count": 2,
   "id": "302bec3f-3389-44a6-90c5-51696331d3fa",
   "metadata": {},
   "outputs": [],
   "source": [
    "# plt.figure(figsize=(12,8))\n",
    "\n",
    "# # Original signal\n",
    "# plt.subplot(3,1,1)\n",
    "# plt.plot(t_2, signal, 'b')\n",
    "# plt.title(\"Original Signal\")\n",
    "# plt.xlabel(\"Time [s]\")\n",
    "# plt.ylabel(\"Amplitude\")\n",
    "# plt.grid(True)\n",
    "\n",
    "# # Resampled above Nyquist\n",
    "# plt.subplot(3,1,2)\n",
    "# plt.plot(t_2, signal, 'lightgray', label=\"Original\")\n",
    "# plt.plot(t_above, signal_above, 'g.-', label=f\"Resampled at {fs_above} Hz (Above Nyquist)\")\n",
    "# plt.title(\"No Aliasing (fs above Nyquist)\")\n",
    "# plt.xlabel(\"Time [s]\")\n",
    "# plt.ylabel(\"Amplitude\")\n",
    "# plt.legend()\n",
    "# plt.grid(True)\n",
    "\n",
    "# # Resampled below Nyquist\n",
    "# plt.subplot(3,1,3)\n",
    "# plt.plot(t_2, signal, 'lightgray', label=\"Original\")\n",
    "# plt.plot(t_below, signal_below, 'r.-', label=f\"Resampled at {fs_below} Hz (Below Nyquist)\")\n",
    "# plt.title(\"Aliasing Occurs (fs below Nyquist)\")\n",
    "# plt.xlabel(\"Time [s]\")\n",
    "# plt.ylabel(\"Amplitude\")\n",
    "# plt.legend()\n",
    "# plt.grid(True)\n",
    "\n",
    "# plt.tight_layout()\n",
    "# plt.show()\n"
   ]
  },
  {
   "cell_type": "markdown",
   "id": "c28198d2-fe23-434c-86ff-ce5ec23accaa",
   "metadata": {},
   "source": [
    "### **Task 2.3:** Comments of the Output\n"
   ]
  },
  {
   "cell_type": "code",
   "execution_count": null,
   "id": "2660e2b0-b0a6-4763-931c-97039419e1f7",
   "metadata": {},
   "outputs": [],
   "source": [
    "\n",
    "\n",
    "\n",
    "\n"
   ]
  }
 ],
 "metadata": {
  "kernelspec": {
   "display_name": "Python 3 (ipykernel)",
   "language": "python",
   "name": "python3"
  },
  "language_info": {
   "codemirror_mode": {
    "name": "ipython",
    "version": 3
   },
   "file_extension": ".py",
   "mimetype": "text/x-python",
   "name": "python",
   "nbconvert_exporter": "python",
   "pygments_lexer": "ipython3",
   "version": "3.12.4"
  }
 },
 "nbformat": 4,
 "nbformat_minor": 5
}
